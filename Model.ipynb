{
 "cells": [
  {
   "cell_type": "code",
   "execution_count": 18,
   "metadata": {},
   "outputs": [],
   "source": [
    "import tensorflow as tf\n",
    "from tensorflow.keras.applications import ResNet50\n",
    "from tensorflow.keras.models import Model\n",
    "from tensorflow.keras.layers import Dense, GlobalAveragePooling2D\n",
    "from keras.applications import VGG19"
   ]
  },
  {
   "cell_type": "code",
   "execution_count": 19,
   "metadata": {},
   "outputs": [],
   "source": [
    "# Define the number of classes\n",
    "num_classes = 4  # glioma, meningioma, notumer, pituitary"
   ]
  },
  {
   "cell_type": "code",
   "execution_count": 20,
   "metadata": {},
   "outputs": [],
   "source": [
    "# Load the VGG19 base model (excluding the top layers)\n",
    "base_model = VGG19(weights='imagenet', include_top=False)\n",
    "\n",
    "# Add custom top layers for classification\n",
    "x = base_model.output\n",
    "x = GlobalAveragePooling2D()(x)\n",
    "x = Dense(512, activation='relu')(x)\n",
    "x = Dense(256, activation='relu')(x)\n",
    "x = Dense(128, activation='relu')(x)\n",
    "x = Dense(64, activation='relu')(x)\n",
    "x = Dense(32, activation='relu')(x)\n",
    "predictions = Dense(num_classes, activation='softmax')(x)"
   ]
  },
  {
   "cell_type": "code",
   "execution_count": 21,
   "metadata": {},
   "outputs": [],
   "source": [
    "# Define the model\n",
    "model = Model(inputs=base_model.input, outputs=predictions)"
   ]
  },
  {
   "cell_type": "code",
   "execution_count": 22,
   "metadata": {},
   "outputs": [],
   "source": [
    "# Freeze the layers in the base model\n",
    "for layer in base_model.layers:\n",
    "    layer.trainable = False"
   ]
  },
  {
   "cell_type": "code",
   "execution_count": 23,
   "metadata": {},
   "outputs": [
    {
     "name": "stdout",
     "output_type": "stream",
     "text": [
      "Model: \"model_1\"\n",
      "_________________________________________________________________\n",
      " Layer (type)                Output Shape              Param #   \n",
      "=================================================================\n",
      " input_2 (InputLayer)        [(None, None, None, 3)]   0         \n",
      "                                                                 \n",
      " block1_conv1 (Conv2D)       (None, None, None, 64)    1792      \n",
      "                                                                 \n",
      " block1_conv2 (Conv2D)       (None, None, None, 64)    36928     \n",
      "                                                                 \n",
      " block1_pool (MaxPooling2D)  (None, None, None, 64)    0         \n",
      "                                                                 \n",
      " block2_conv1 (Conv2D)       (None, None, None, 128)   73856     \n",
      "                                                                 \n",
      " block2_conv2 (Conv2D)       (None, None, None, 128)   147584    \n",
      "                                                                 \n",
      " block2_pool (MaxPooling2D)  (None, None, None, 128)   0         \n",
      "                                                                 \n",
      " block3_conv1 (Conv2D)       (None, None, None, 256)   295168    \n",
      "                                                                 \n",
      " block3_conv2 (Conv2D)       (None, None, None, 256)   590080    \n",
      "                                                                 \n",
      " block3_conv3 (Conv2D)       (None, None, None, 256)   590080    \n",
      "                                                                 \n",
      " block3_conv4 (Conv2D)       (None, None, None, 256)   590080    \n",
      "                                                                 \n",
      " block3_pool (MaxPooling2D)  (None, None, None, 256)   0         \n",
      "                                                                 \n",
      " block4_conv1 (Conv2D)       (None, None, None, 512)   1180160   \n",
      "                                                                 \n",
      " block4_conv2 (Conv2D)       (None, None, None, 512)   2359808   \n",
      "                                                                 \n",
      " block4_conv3 (Conv2D)       (None, None, None, 512)   2359808   \n",
      "                                                                 \n",
      " block4_conv4 (Conv2D)       (None, None, None, 512)   2359808   \n",
      "                                                                 \n",
      " block4_pool (MaxPooling2D)  (None, None, None, 512)   0         \n",
      "                                                                 \n",
      " block5_conv1 (Conv2D)       (None, None, None, 512)   2359808   \n",
      "                                                                 \n",
      " block5_conv2 (Conv2D)       (None, None, None, 512)   2359808   \n",
      "                                                                 \n",
      " block5_conv3 (Conv2D)       (None, None, None, 512)   2359808   \n",
      "                                                                 \n",
      " block5_conv4 (Conv2D)       (None, None, None, 512)   2359808   \n",
      "                                                                 \n",
      " block5_pool (MaxPooling2D)  (None, None, None, 512)   0         \n",
      "                                                                 \n",
      " global_average_pooling2d_1   (None, 512)              0         \n",
      " (GlobalAveragePooling2D)                                        \n",
      "                                                                 \n",
      " dense_6 (Dense)             (None, 512)               262656    \n",
      "                                                                 \n",
      " dense_7 (Dense)             (None, 256)               131328    \n",
      "                                                                 \n",
      " dense_8 (Dense)             (None, 128)               32896     \n",
      "                                                                 \n",
      " dense_9 (Dense)             (None, 64)                8256      \n",
      "                                                                 \n",
      " dense_10 (Dense)            (None, 32)                2080      \n",
      "                                                                 \n",
      " dense_11 (Dense)            (None, 4)                 132       \n",
      "                                                                 \n",
      "=================================================================\n",
      "Total params: 20,461,732\n",
      "Trainable params: 437,348\n",
      "Non-trainable params: 20,024,384\n",
      "_________________________________________________________________\n"
     ]
    }
   ],
   "source": [
    "# Compile the model\n",
    "model.compile(optimizer='adam', loss='categorical_crossentropy', metrics=['accuracy'])\n",
    "\n",
    "# Print model summary\n",
    "model.summary()"
   ]
  },
  {
   "cell_type": "code",
   "execution_count": 24,
   "metadata": {},
   "outputs": [],
   "source": [
    "train_folder = r\"D:\\Dataset\\Brain tumer\\Training\"\n",
    "\n",
    "test_folder = r\"D:\\Dataset\\Brain tumer\\Testing\""
   ]
  },
  {
   "cell_type": "code",
   "execution_count": 27,
   "metadata": {},
   "outputs": [
    {
     "name": "stdout",
     "output_type": "stream",
     "text": [
      "Found 5712 images belonging to 4 classes.\n",
      "Found 1311 images belonging to 4 classes.\n"
     ]
    }
   ],
   "source": [
    "\n",
    "# Train the model using the training data\n",
    "train_datagen = tf.keras.preprocessing.image.ImageDataGenerator(rescale=1./255)\n",
    "train_generator = train_datagen.flow_from_directory(\n",
    "        train_folder,\n",
    "        target_size=(224, 224),\n",
    "        batch_size=16,\n",
    "        class_mode='categorical')\n",
    "\n",
    "# Validate the model using the testing data\n",
    "validation_datagen = tf.keras.preprocessing.image.ImageDataGenerator(rescale=1./255)\n",
    "validation_generator = validation_datagen.flow_from_directory(\n",
    "        test_folder,\n",
    "        target_size=(224, 224),\n",
    "        batch_size=16,\n",
    "        class_mode='categorical')\n",
    "\n",
    "# Train the model\n"
   ]
  },
  {
   "cell_type": "code",
   "execution_count": 28,
   "metadata": {},
   "outputs": [
    {
     "name": "stdout",
     "output_type": "stream",
     "text": [
      "Epoch 1/50\n",
      "178/178 [==============================] - 38s 184ms/step - loss: 0.9535 - accuracy: 0.5569 - val_loss: 0.7060 - val_accuracy: 0.7078\n",
      "Epoch 2/50\n",
      "178/178 [==============================] - 32s 182ms/step - loss: 0.6082 - accuracy: 0.7237 - val_loss: 0.6187 - val_accuracy: 0.7281\n",
      "Epoch 3/50\n",
      "178/178 [==============================] - 32s 181ms/step - loss: 0.5222 - accuracy: 0.7669 - val_loss: 0.5719 - val_accuracy: 0.7922\n",
      "Epoch 4/50\n",
      "178/178 [==============================] - 32s 180ms/step - loss: 0.4417 - accuracy: 0.8181 - val_loss: 0.5746 - val_accuracy: 0.7766\n",
      "Epoch 5/50\n",
      "178/178 [==============================] - 32s 180ms/step - loss: 0.4346 - accuracy: 0.8336 - val_loss: 0.6755 - val_accuracy: 0.7094\n",
      "Epoch 6/50\n",
      "178/178 [==============================] - 32s 179ms/step - loss: 0.4285 - accuracy: 0.8385 - val_loss: 0.5171 - val_accuracy: 0.8031\n",
      "Epoch 7/50\n",
      "178/178 [==============================] - 32s 178ms/step - loss: 0.3336 - accuracy: 0.8768 - val_loss: 0.4757 - val_accuracy: 0.8234\n",
      "Epoch 8/50\n",
      "178/178 [==============================] - 32s 178ms/step - loss: 0.3392 - accuracy: 0.8743 - val_loss: 0.4968 - val_accuracy: 0.7922\n",
      "Epoch 9/50\n",
      "178/178 [==============================] - 32s 178ms/step - loss: 0.3352 - accuracy: 0.8824 - val_loss: 0.4538 - val_accuracy: 0.8359\n",
      "Epoch 10/50\n",
      "178/178 [==============================] - 32s 178ms/step - loss: 0.3395 - accuracy: 0.8725 - val_loss: 0.5465 - val_accuracy: 0.8172\n",
      "Epoch 11/50\n",
      "178/178 [==============================] - 26s 143ms/step - loss: 0.3148 - accuracy: 0.8838 - val_loss: 0.4536 - val_accuracy: 0.8266\n",
      "Epoch 12/50\n",
      "178/178 [==============================] - 21s 120ms/step - loss: 0.2861 - accuracy: 0.8961 - val_loss: 0.3479 - val_accuracy: 0.8750\n",
      "Epoch 13/50\n",
      "178/178 [==============================] - 21s 119ms/step - loss: 0.3003 - accuracy: 0.8912 - val_loss: 0.3862 - val_accuracy: 0.8516\n",
      "Epoch 14/50\n",
      "178/178 [==============================] - 21s 119ms/step - loss: 0.2795 - accuracy: 0.8999 - val_loss: 0.5451 - val_accuracy: 0.8031\n",
      "Epoch 15/50\n",
      "178/178 [==============================] - 21s 120ms/step - loss: 0.2841 - accuracy: 0.8947 - val_loss: 0.3700 - val_accuracy: 0.8594\n",
      "Epoch 16/50\n",
      "178/178 [==============================] - 21s 120ms/step - loss: 0.2554 - accuracy: 0.9052 - val_loss: 0.8335 - val_accuracy: 0.7234\n",
      "Epoch 17/50\n",
      "178/178 [==============================] - 21s 119ms/step - loss: 0.3242 - accuracy: 0.8869 - val_loss: 0.5194 - val_accuracy: 0.7969\n",
      "Epoch 18/50\n",
      "178/178 [==============================] - 21s 120ms/step - loss: 0.2669 - accuracy: 0.8961 - val_loss: 0.3584 - val_accuracy: 0.8641\n",
      "Epoch 19/50\n",
      "178/178 [==============================] - 22s 121ms/step - loss: 0.2706 - accuracy: 0.8996 - val_loss: 0.3947 - val_accuracy: 0.8391\n",
      "Epoch 20/50\n",
      "178/178 [==============================] - 21s 120ms/step - loss: 0.2708 - accuracy: 0.9003 - val_loss: 0.4315 - val_accuracy: 0.8547\n",
      "Epoch 21/50\n",
      "178/178 [==============================] - 21s 121ms/step - loss: 0.2389 - accuracy: 0.9161 - val_loss: 0.3768 - val_accuracy: 0.8594\n",
      "Epoch 22/50\n",
      "178/178 [==============================] - 22s 122ms/step - loss: 0.2808 - accuracy: 0.8950 - val_loss: 0.3232 - val_accuracy: 0.8781\n",
      "Epoch 23/50\n",
      "178/178 [==============================] - 22s 121ms/step - loss: 0.2789 - accuracy: 0.8947 - val_loss: 0.3806 - val_accuracy: 0.8547\n",
      "Epoch 24/50\n",
      "178/178 [==============================] - 21s 120ms/step - loss: 0.2387 - accuracy: 0.9154 - val_loss: 0.4794 - val_accuracy: 0.8172\n",
      "Epoch 25/50\n",
      "178/178 [==============================] - 21s 120ms/step - loss: 0.2525 - accuracy: 0.9077 - val_loss: 0.3498 - val_accuracy: 0.8578\n",
      "Epoch 26/50\n",
      "178/178 [==============================] - 21s 121ms/step - loss: 0.2357 - accuracy: 0.9129 - val_loss: 0.3638 - val_accuracy: 0.8687\n",
      "Epoch 27/50\n",
      "178/178 [==============================] - 21s 121ms/step - loss: 0.2193 - accuracy: 0.9203 - val_loss: 0.4236 - val_accuracy: 0.8516\n",
      "Epoch 28/50\n",
      "178/178 [==============================] - 22s 121ms/step - loss: 0.2551 - accuracy: 0.9027 - val_loss: 0.4057 - val_accuracy: 0.8391\n",
      "Epoch 29/50\n",
      "178/178 [==============================] - 22s 121ms/step - loss: 0.2258 - accuracy: 0.9157 - val_loss: 0.6967 - val_accuracy: 0.7953\n",
      "Epoch 30/50\n",
      "178/178 [==============================] - 22s 121ms/step - loss: 0.2438 - accuracy: 0.9182 - val_loss: 0.3085 - val_accuracy: 0.8859\n",
      "Epoch 31/50\n",
      "178/178 [==============================] - 21s 120ms/step - loss: 0.2395 - accuracy: 0.9157 - val_loss: 0.3890 - val_accuracy: 0.8422\n",
      "Epoch 32/50\n",
      "178/178 [==============================] - 22s 121ms/step - loss: 0.2239 - accuracy: 0.9168 - val_loss: 0.3096 - val_accuracy: 0.8859\n",
      "Epoch 33/50\n",
      "178/178 [==============================] - 22s 122ms/step - loss: 0.2254 - accuracy: 0.9168 - val_loss: 0.3234 - val_accuracy: 0.8625\n",
      "Epoch 34/50\n",
      "178/178 [==============================] - 22s 121ms/step - loss: 0.2125 - accuracy: 0.9192 - val_loss: 0.3078 - val_accuracy: 0.8781\n",
      "Epoch 35/50\n",
      "178/178 [==============================] - 22s 121ms/step - loss: 0.2136 - accuracy: 0.9231 - val_loss: 0.4070 - val_accuracy: 0.8609\n",
      "Epoch 36/50\n",
      "178/178 [==============================] - 21s 121ms/step - loss: 0.1848 - accuracy: 0.9347 - val_loss: 0.2589 - val_accuracy: 0.8859\n",
      "Epoch 37/50\n",
      "178/178 [==============================] - 21s 120ms/step - loss: 0.2111 - accuracy: 0.9217 - val_loss: 0.2606 - val_accuracy: 0.9000\n",
      "Epoch 38/50\n",
      "178/178 [==============================] - 22s 121ms/step - loss: 0.1996 - accuracy: 0.9263 - val_loss: 0.5406 - val_accuracy: 0.8000\n",
      "Epoch 39/50\n",
      "178/178 [==============================] - 22s 121ms/step - loss: 0.2096 - accuracy: 0.9210 - val_loss: 0.2297 - val_accuracy: 0.9047\n",
      "Epoch 40/50\n",
      "178/178 [==============================] - 21s 120ms/step - loss: 0.2235 - accuracy: 0.9122 - val_loss: 0.2822 - val_accuracy: 0.8844\n",
      "Epoch 41/50\n",
      "178/178 [==============================] - 21s 119ms/step - loss: 0.2070 - accuracy: 0.9266 - val_loss: 0.3094 - val_accuracy: 0.8672\n",
      "Epoch 42/50\n",
      "178/178 [==============================] - 21s 119ms/step - loss: 0.1703 - accuracy: 0.9361 - val_loss: 0.2856 - val_accuracy: 0.8891\n",
      "Epoch 43/50\n",
      "178/178 [==============================] - 21s 121ms/step - loss: 0.1888 - accuracy: 0.9298 - val_loss: 0.3585 - val_accuracy: 0.8781\n",
      "Epoch 44/50\n",
      "178/178 [==============================] - 21s 120ms/step - loss: 0.1951 - accuracy: 0.9259 - val_loss: 0.2664 - val_accuracy: 0.8859\n",
      "Epoch 45/50\n",
      "178/178 [==============================] - 21s 121ms/step - loss: 0.1745 - accuracy: 0.9343 - val_loss: 0.1933 - val_accuracy: 0.9172\n",
      "Epoch 46/50\n",
      "178/178 [==============================] - 21s 121ms/step - loss: 0.1804 - accuracy: 0.9308 - val_loss: 0.2709 - val_accuracy: 0.8984\n",
      "Epoch 47/50\n",
      "178/178 [==============================] - 21s 120ms/step - loss: 0.1730 - accuracy: 0.9400 - val_loss: 0.3198 - val_accuracy: 0.8656\n",
      "Epoch 48/50\n",
      "178/178 [==============================] - 22s 121ms/step - loss: 0.1841 - accuracy: 0.9312 - val_loss: 0.2184 - val_accuracy: 0.9266\n",
      "Epoch 49/50\n",
      "178/178 [==============================] - 22s 121ms/step - loss: 0.1764 - accuracy: 0.9375 - val_loss: 0.2832 - val_accuracy: 0.8922\n",
      "Epoch 50/50\n",
      "178/178 [==============================] - 21s 120ms/step - loss: 0.1794 - accuracy: 0.9368 - val_loss: 0.2505 - val_accuracy: 0.9062\n"
     ]
    },
    {
     "data": {
      "text/plain": [
       "<keras.callbacks.History at 0x1f97f2d7460>"
      ]
     },
     "execution_count": 28,
     "metadata": {},
     "output_type": "execute_result"
    }
   ],
   "source": [
    "model.fit(\n",
    "        train_generator,\n",
    "        steps_per_epoch=train_generator.samples // 32,\n",
    "        validation_data=validation_generator,\n",
    "        validation_steps=validation_generator.samples // 32,\n",
    "        epochs=50)\n",
    "\n",
    "# Save the model\n",
    "\n"
   ]
  },
  {
   "cell_type": "code",
   "execution_count": 29,
   "metadata": {},
   "outputs": [],
   "source": [
    "model.save('Brain_Tumer.h5')"
   ]
  },
  {
   "cell_type": "code",
   "execution_count": null,
   "metadata": {},
   "outputs": [],
   "source": []
  }
 ],
 "metadata": {
  "kernelspec": {
   "display_name": "tensorflow",
   "language": "python",
   "name": "python3"
  },
  "language_info": {
   "codemirror_mode": {
    "name": "ipython",
    "version": 3
   },
   "file_extension": ".py",
   "mimetype": "text/x-python",
   "name": "python",
   "nbconvert_exporter": "python",
   "pygments_lexer": "ipython3",
   "version": "3.8.18"
  }
 },
 "nbformat": 4,
 "nbformat_minor": 2
}
